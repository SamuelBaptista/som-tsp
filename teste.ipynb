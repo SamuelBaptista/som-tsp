{
 "cells": [
  {
   "cell_type": "code",
   "execution_count": 26,
   "metadata": {},
   "outputs": [],
   "source": [
    "import os\n",
    "import pandas as pd\n",
    "import numpy as np\n",
    "import matplotlib.pyplot as plt\n",
    "\n",
    "import googlemaps\n",
    "import gmplot\n",
    "\n",
    "from dotenv import load_dotenv\n",
    "\n",
    "load_dotenv()\n",
    "API_KEY = os.getenv('API_KEY')"
   ]
  },
  {
   "cell_type": "code",
   "execution_count": 20,
   "metadata": {},
   "outputs": [],
   "source": [
    "gmaps = googlemaps.Client(API_KEY)"
   ]
  },
  {
   "cell_type": "code",
   "execution_count": 21,
   "metadata": {},
   "outputs": [],
   "source": [
    "end1 = 'Dr. Paulo Tinoco Cabral 935, Ribeirão Preto, SP'\n",
    "end2 = 'Rua João Tapetti 256, Ribeirão Preto, SP'\n",
    "end3 = 'Avenida Presidente Vargas 1000, Ribeirão Preto, SP'\n",
    "end4 = 'Rua José Gatti 100, Ribeirão Preto, SP'\n",
    "end5 = 'Avenida Maurilio Biagi 1011, Ribeirão Preto, SP'\n",
    "\n",
    "end_list = [end1, end2, end3, end4, end5]"
   ]
  },
  {
   "cell_type": "code",
   "execution_count": 22,
   "metadata": {},
   "outputs": [],
   "source": [
    "coordinates = []\n",
    "\n",
    "lats = []\n",
    "lgns = []\n",
    "\n",
    "for end in end_list:\n",
    "    geocode_result = gmaps.geocode(end)\n",
    "    coordinates.append(geocode_result[0]['geometry']['location'])\n",
    "    \n",
    "    lats.append(geocode_result[0]['geometry']['location']['lat'])\n",
    "    lgns.append(geocode_result[0]['geometry']['location']['lng'])"
   ]
  },
  {
   "cell_type": "code",
   "execution_count": 23,
   "metadata": {},
   "outputs": [],
   "source": [
    "apikey = API_KEY\n",
    "\n",
    "gmap = gmplot.GoogleMapPlotter(\n",
    "    np.mean(lats),\n",
    "    np.mean(lgns),\n",
    "    13,\n",
    "    apikey=apikey\n",
    ")\n",
    "\n",
    "gmap.scatter(lats, lgns, color='red')\n",
    "gmap.draw('locations.html')"
   ]
  },
  {
   "cell_type": "code",
   "execution_count": 6,
   "metadata": {},
   "outputs": [],
   "source": [
    "df_coords = pd.DataFrame(coordinates)\n",
    "df_coords.columns = ['x', 'y']\n",
    "df_coords['cod_fazenda'] = df_coords.index"
   ]
  },
  {
   "cell_type": "code",
   "execution_count": 7,
   "metadata": {},
   "outputs": [
    {
     "data": {
      "text/html": [
       "<div>\n",
       "<style scoped>\n",
       "    .dataframe tbody tr th:only-of-type {\n",
       "        vertical-align: middle;\n",
       "    }\n",
       "\n",
       "    .dataframe tbody tr th {\n",
       "        vertical-align: top;\n",
       "    }\n",
       "\n",
       "    .dataframe thead th {\n",
       "        text-align: right;\n",
       "    }\n",
       "</style>\n",
       "<table border=\"1\" class=\"dataframe\">\n",
       "  <thead>\n",
       "    <tr style=\"text-align: right;\">\n",
       "      <th></th>\n",
       "      <th>x</th>\n",
       "      <th>y</th>\n",
       "      <th>cod_fazenda</th>\n",
       "    </tr>\n",
       "  </thead>\n",
       "  <tbody>\n",
       "    <tr>\n",
       "      <th>0</th>\n",
       "      <td>-21.201437</td>\n",
       "      <td>-47.807650</td>\n",
       "      <td>0</td>\n",
       "    </tr>\n",
       "    <tr>\n",
       "      <th>1</th>\n",
       "      <td>-21.131067</td>\n",
       "      <td>-47.829862</td>\n",
       "      <td>1</td>\n",
       "    </tr>\n",
       "    <tr>\n",
       "      <th>2</th>\n",
       "      <td>-21.197431</td>\n",
       "      <td>-47.808127</td>\n",
       "      <td>2</td>\n",
       "    </tr>\n",
       "    <tr>\n",
       "      <th>3</th>\n",
       "      <td>-21.169402</td>\n",
       "      <td>-47.811085</td>\n",
       "      <td>3</td>\n",
       "    </tr>\n",
       "    <tr>\n",
       "      <th>4</th>\n",
       "      <td>-21.202385</td>\n",
       "      <td>-47.794576</td>\n",
       "      <td>4</td>\n",
       "    </tr>\n",
       "  </tbody>\n",
       "</table>\n",
       "</div>"
      ],
      "text/plain": [
       "           x          y  cod_fazenda\n",
       "0 -21.201437 -47.807650            0\n",
       "1 -21.131067 -47.829862            1\n",
       "2 -21.197431 -47.808127            2\n",
       "3 -21.169402 -47.811085            3\n",
       "4 -21.202385 -47.794576            4"
      ]
     },
     "execution_count": 7,
     "metadata": {},
     "output_type": "execute_result"
    }
   ],
   "source": [
    "df_coords"
   ]
  },
  {
   "cell_type": "code",
   "execution_count": 8,
   "metadata": {},
   "outputs": [],
   "source": [
    "import numpy as np\n",
    "import time\n",
    "\n",
    "from src.io_helper import read_tsp, normalize, generate_tsp_from_excel\n",
    "from src.neuron import generate_network, get_neighborhood\n",
    "from src.distance import select_closest, route_distance, get_route\n",
    "from src.plot import plot_network, plot_route\n",
    "from src.gif import get_frames, create_gif, remove_images"
   ]
  },
  {
   "cell_type": "code",
   "execution_count": 9,
   "metadata": {},
   "outputs": [],
   "source": [
    "def som(problem, iterations, filename, learning_rate=0.8):\n",
    "    \"\"\"Solve the TSP using a Self-Organizing Map.\"\"\"\n",
    "    \n",
    "    # Obtain the normalized set of cities (w/ coord in [0,1])\n",
    "    cities = problem.copy()\n",
    "\n",
    "    cities[['x', 'y']] = normalize(cities[['x', 'y']])\n",
    "\n",
    "    # The population size is 8 times the number of cities\n",
    "    n = cities.shape[0] * 8\n",
    "\n",
    "    # Generate an adequate network of neurons:\n",
    "    network = generate_network(n)\n",
    "    print('Network of {} neurons created. Starting the iterations:'.format(n))\n",
    "\n",
    "    for i in range(iterations):\n",
    "        if not i % 100:\n",
    "            print('\\t> Iteration {}/{}'.format(i, iterations), end=\"\\r\")\n",
    "        # Choose a random city\n",
    "        city = cities.sample(1)[['x', 'y']].values\n",
    "        winner_idx = select_closest(network, city)\n",
    "        # Generate a filter that applies changes to the winner's gaussian\n",
    "        gaussian = get_neighborhood(winner_idx, n//10, network.shape[0])\n",
    "        # Update the network's weights (closer to the city)\n",
    "        network += gaussian[:,np.newaxis] * learning_rate * (city - network)\n",
    "        # Decay the variables\n",
    "        learning_rate = learning_rate * 0.99997\n",
    "        n = n * 0.9997\n",
    "\n",
    "        # Check for plotting interval\n",
    "        if not i % 1000:\n",
    "            plot_network(cities, network, name='diagrams/{:05d}.jpg'.format(i))\n",
    "\n",
    "        # Check if any parameter has completely decayed.\n",
    "        if n < 1:\n",
    "            print('Radius has completely decayed, finishing execution',\n",
    "            'at {} iterations'.format(i))\n",
    "            break\n",
    "        if learning_rate < 0.001:\n",
    "            print('Learning rate has completely decayed, finishing execution',\n",
    "            'at {} iterations'.format(i))\n",
    "            break\n",
    "    else:\n",
    "        print('Completed {} iterations.'.format(iterations))\n",
    "\n",
    "    plot_network(cities, network, name='diagrams/final.jpg')\n",
    "\n",
    "    route = get_route(cities, network)\n",
    "    plot_route(cities, route, f'diagrams/route_{filename}.jpg')\n",
    "    \n",
    "    return route"
   ]
  },
  {
   "cell_type": "code",
   "execution_count": 10,
   "metadata": {},
   "outputs": [
    {
     "name": "stdout",
     "output_type": "stream",
     "text": [
      "Network of 40 neurons created. Starting the iterations:\n",
      "Radius has completely decayed, finishing execution at 12294 iterations\n"
     ]
    }
   ],
   "source": [
    "route = som(df_coords, 100000, 'teste')"
   ]
  },
  {
   "cell_type": "code",
   "execution_count": 11,
   "metadata": {},
   "outputs": [
    {
     "data": {
      "text/plain": [
       "Int64Index([2, 0, 4, 3, 1], dtype='int64')"
      ]
     },
     "execution_count": 11,
     "metadata": {},
     "output_type": "execute_result"
    }
   ],
   "source": [
    "route"
   ]
  },
  {
   "cell_type": "code",
   "execution_count": 12,
   "metadata": {},
   "outputs": [],
   "source": [
    "start = 0\n",
    "lst_route = list(route)\n",
    "\n",
    "idx = lst_route.index(start)\n",
    "\n",
    "last = lst_route[idx:]\n",
    "first = lst_route[:idx]\n",
    "\n",
    "final = last + first"
   ]
  },
  {
   "cell_type": "code",
   "execution_count": 13,
   "metadata": {},
   "outputs": [
    {
     "data": {
      "text/plain": [
       "[0, 4, 3, 1, 2]"
      ]
     },
     "execution_count": 13,
     "metadata": {},
     "output_type": "execute_result"
    }
   ],
   "source": [
    "final"
   ]
  },
  {
   "cell_type": "code",
   "execution_count": 14,
   "metadata": {},
   "outputs": [
    {
     "name": "stdout",
     "output_type": "stream",
     "text": [
      "0 x             -21.201437\n",
      "y             -47.807650\n",
      "cod_fazenda     0.000000\n",
      "Name: 0, dtype: float64\n",
      "1 x             -21.202385\n",
      "y             -47.794576\n",
      "cod_fazenda     4.000000\n",
      "Name: 4, dtype: float64\n",
      "2 x             -21.169402\n",
      "y             -47.811085\n",
      "cod_fazenda     3.000000\n",
      "Name: 3, dtype: float64\n",
      "3 x             -21.131067\n",
      "y             -47.829862\n",
      "cod_fazenda     1.000000\n",
      "Name: 1, dtype: float64\n",
      "4 x             -21.197431\n",
      "y             -47.808127\n",
      "cod_fazenda     2.000000\n",
      "Name: 2, dtype: float64\n"
     ]
    }
   ],
   "source": [
    "for i, (_, row) in enumerate(df_coords.iloc[final].iterrows()):\n",
    "    print(i, row)"
   ]
  },
  {
   "cell_type": "code",
   "execution_count": 6,
   "metadata": {},
   "outputs": [],
   "source": [
    "\n",
    "\n",
    "apikey = API_KEY\n",
    "gmap = gmplot.GoogleMapPlotter(\n",
    "    -21.131067,\n",
    "    -47.811085,\n",
    "    13,\n",
    "    apikey=apikey\n",
    ")\n",
    "\n",
    "gmap.directions(\n",
    "    (-21.131067, -47.829862),\n",
    "    (-21.169402, -47.811085),\n",
    "    waypoints=[\n",
    "        (-21.197431, -47.808127),\n",
    "        (-21.201437, -47.807650),\n",
    "        (-21.202385, -47.794576),\n",
    "    ]\n",
    ")\n",
    "\n",
    "gmap.draw('map.html')"
   ]
  }
 ],
 "metadata": {
  "kernelspec": {
   "display_name": "venv",
   "language": "python",
   "name": "python3"
  },
  "language_info": {
   "codemirror_mode": {
    "name": "ipython",
    "version": 3
   },
   "file_extension": ".py",
   "mimetype": "text/x-python",
   "name": "python",
   "nbconvert_exporter": "python",
   "pygments_lexer": "ipython3",
   "version": "3.8.10"
  },
  "orig_nbformat": 4,
  "vscode": {
   "interpreter": {
    "hash": "332eba2bb24500ef9ccab80f0eddca3bfab25d0b2bb78e4d7a058fd553cdaf25"
   }
  }
 },
 "nbformat": 4,
 "nbformat_minor": 2
}
