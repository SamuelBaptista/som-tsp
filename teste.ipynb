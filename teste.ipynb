{
 "cells": [
  {
   "cell_type": "code",
   "execution_count": 1,
   "metadata": {},
   "outputs": [],
   "source": [
    "import os\n",
    "import pandas as pd\n",
    "import numpy as np\n",
    "import matplotlib.pyplot as plt\n",
    "\n",
    "import googlemaps\n",
    "import gmplot\n",
    "\n",
    "from dotenv import load_dotenv\n",
    "\n",
    "from src.som import som\n",
    "\n",
    "load_dotenv()\n",
    "API_KEY = os.getenv('API_KEY')"
   ]
  },
  {
   "cell_type": "code",
   "execution_count": 12,
   "metadata": {},
   "outputs": [],
   "source": [
    "gclient = googlemaps.Client(API_KEY)"
   ]
  },
  {
   "cell_type": "code",
   "execution_count": 3,
   "metadata": {},
   "outputs": [],
   "source": [
    "with open('enderecos.txt', 'r') as f:\n",
    "    enderecos = f.readlines()\n",
    "    end_list = [texto.replace('\\n', '') for texto in enderecos]"
   ]
  },
  {
   "cell_type": "code",
   "execution_count": 4,
   "metadata": {},
   "outputs": [],
   "source": [
    "coordinates = []\n",
    "\n",
    "lats = []\n",
    "lgns = []\n",
    "\n",
    "for end in end_list:\n",
    "    geocode_result = gclient.geocode(end)\n",
    "    coordinates.append(geocode_result[0]['geometry']['location'])\n",
    "    \n",
    "    lats.append(geocode_result[0]['geometry']['location']['lat'])\n",
    "    lgns.append(geocode_result[0]['geometry']['location']['lng'])"
   ]
  },
  {
   "cell_type": "code",
   "execution_count": 5,
   "metadata": {},
   "outputs": [],
   "source": [
    "apikey = API_KEY\n",
    "\n",
    "gmap = gmplot.GoogleMapPlotter(\n",
    "    np.mean(lats),\n",
    "    np.mean(lgns),\n",
    "    13,\n",
    "    apikey=apikey\n",
    ")\n",
    "\n",
    "gmap.scatter(lats, lgns, color='red')\n",
    "gmap.draw('maps/locations.html')"
   ]
  },
  {
   "cell_type": "code",
   "execution_count": 6,
   "metadata": {},
   "outputs": [],
   "source": [
    "df_coords = pd.DataFrame(coordinates)\n",
    "df_coords.columns = ['x', 'y']\n",
    "df_coords['codigo'] = df_coords.index"
   ]
  },
  {
   "cell_type": "code",
   "execution_count": 7,
   "metadata": {},
   "outputs": [
    {
     "name": "stdout",
     "output_type": "stream",
     "text": [
      "Network of 64 neurons created. Starting the iterations:\n",
      "Radius has completely decayed, finishing execution at 13860 iterations\n"
     ]
    }
   ],
   "source": [
    "route = som(df_coords, 100000, 'teste')"
   ]
  },
  {
   "cell_type": "code",
   "execution_count": 8,
   "metadata": {},
   "outputs": [
    {
     "data": {
      "text/plain": [
       "Int64Index([5, 7, 2, 0, 3, 6, 1, 4], dtype='int64')"
      ]
     },
     "execution_count": 8,
     "metadata": {},
     "output_type": "execute_result"
    }
   ],
   "source": [
    "route"
   ]
  },
  {
   "cell_type": "code",
   "execution_count": 9,
   "metadata": {},
   "outputs": [],
   "source": [
    "start = 0\n",
    "lst_route = list(route)\n",
    "\n",
    "idx = lst_route.index(start)\n",
    "\n",
    "last = lst_route[idx:]\n",
    "first = lst_route[:idx]\n",
    "\n",
    "final = last + first"
   ]
  },
  {
   "cell_type": "code",
   "execution_count": 37,
   "metadata": {},
   "outputs": [],
   "source": [
    "location_list = []\n",
    "for i, (_, row) in enumerate(df_coords.iloc[final].iterrows()):\n",
    "    if i == 0 :\n",
    "        start = (row['x'], row['y'])\n",
    "    elif i == len(df_coords) - 1:\n",
    "        end = (row['x'], row['y'])\n",
    "    else:\n",
    "        location_list.append((row['x'], row['y']))"
   ]
  },
  {
   "cell_type": "code",
   "execution_count": 11,
   "metadata": {},
   "outputs": [],
   "source": [
    "gmap = gmplot.GoogleMapPlotter(\n",
    "    np.mean(lats),\n",
    "    np.mean(lgns),\n",
    "    13,\n",
    "    apikey=API_KEY\n",
    ")\n",
    "\n",
    "gmap.directions(\n",
    "    start,\n",
    "    end,\n",
    "    waypoints=location_list\n",
    ")\n",
    "\n",
    "gmap.draw('maps/map.html')"
   ]
  },
  {
   "cell_type": "code",
   "execution_count": 38,
   "metadata": {},
   "outputs": [],
   "source": [
    "distance = 0\n",
    "time = 0\n",
    "\n",
    "location_list.insert(0, start)\n",
    "location_list.insert(len(location_list) + 1, end)\n",
    "\n",
    "for i in range(len(location_list) - 1):\n",
    "    response = gclient.distance_matrix(location_list[i], location_list[i+1])\n",
    "    \n",
    "    distance += response['rows'][0]['elements'][0]['distance']['value']\n",
    "    time += response['rows'][0]['elements'][0]['duration']['value']\n",
    "    "
   ]
  },
  {
   "cell_type": "code",
   "execution_count": 39,
   "metadata": {},
   "outputs": [
    {
     "data": {
      "text/plain": [
       "28277"
      ]
     },
     "execution_count": 39,
     "metadata": {},
     "output_type": "execute_result"
    }
   ],
   "source": [
    "distance / 1000"
   ]
  },
  {
   "cell_type": "code",
   "execution_count": 40,
   "metadata": {},
   "outputs": [
    {
     "data": {
      "text/plain": [
       "3948"
      ]
     },
     "execution_count": 40,
     "metadata": {},
     "output_type": "execute_result"
    }
   ],
   "source": [
    "time / 60"
   ]
  }
 ],
 "metadata": {
  "kernelspec": {
   "display_name": "venv",
   "language": "python",
   "name": "python3"
  },
  "language_info": {
   "codemirror_mode": {
    "name": "ipython",
    "version": 3
   },
   "file_extension": ".py",
   "mimetype": "text/x-python",
   "name": "python",
   "nbconvert_exporter": "python",
   "pygments_lexer": "ipython3",
   "version": "3.8.10"
  },
  "orig_nbformat": 4,
  "vscode": {
   "interpreter": {
    "hash": "332eba2bb24500ef9ccab80f0eddca3bfab25d0b2bb78e4d7a058fd553cdaf25"
   }
  }
 },
 "nbformat": 4,
 "nbformat_minor": 2
}
