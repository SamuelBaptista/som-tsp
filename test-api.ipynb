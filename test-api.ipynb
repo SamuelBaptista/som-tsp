{
 "cells": [
  {
   "cell_type": "code",
   "execution_count": 1,
   "source": [
    "import pandas as pd\r\n",
    "\r\n",
    "from unidecode import unidecode"
   ],
   "outputs": [],
   "metadata": {}
  },
  {
   "cell_type": "code",
   "execution_count": 18,
   "source": [
    "def clean_column_names(columns):\r\n",
    "    clean_columns = []\r\n",
    "    for col in columns:\r\n",
    "        clean_columns.append(\r\n",
    "            unidecode(col)\\\r\n",
    "               .strip()\\\r\n",
    "               .lower()\\\r\n",
    "               .replace('.', '')\\\r\n",
    "               .replace(' - ', '_')\\\r\n",
    "               .replace('/', '_')\\\r\n",
    "               .replace(' ', '_')\r\n",
    "        )\r\n",
    "    \r\n",
    "    return clean_columns"
   ],
   "outputs": [],
   "metadata": {}
  },
  {
   "cell_type": "code",
   "execution_count": 2,
   "source": [
    "cities = pd.read_csv('sample_data/cities_table_full.csv')\r\n",
    "gatec = pd.read_excel('sample_data/gatec.xlsx')"
   ],
   "outputs": [],
   "metadata": {}
  },
  {
   "cell_type": "code",
   "execution_count": 8,
   "source": [
    "gatec = gatec.convert_dtypes()"
   ],
   "outputs": [],
   "metadata": {}
  },
  {
   "cell_type": "code",
   "execution_count": 12,
   "source": [
    "gatec['Município'] = gatec['Município'].fillna('Nao_Informado')"
   ],
   "outputs": [],
   "metadata": {}
  },
  {
   "cell_type": "code",
   "execution_count": 13,
   "source": [
    "gatec['municipio'] = gatec['Município'].apply(lambda x: unidecode(x).upper().replace(' ', '_'))"
   ],
   "outputs": [],
   "metadata": {}
  },
  {
   "cell_type": "code",
   "execution_count": 24,
   "source": [
    "joined = gatec.merge(\r\n",
    "    cities, how=\"left\", on=\"municipio\"\r\n",
    ")"
   ],
   "outputs": [],
   "metadata": {}
  },
  {
   "cell_type": "code",
   "execution_count": 26,
   "source": [
    "joined.drop(['Município', 'Unnamed: 0'], axis=1, inplace=True)"
   ],
   "outputs": [],
   "metadata": {}
  },
  {
   "cell_type": "code",
   "execution_count": 27,
   "source": [
    "joined.columns = clean_column_names(joined.columns)"
   ],
   "outputs": [],
   "metadata": {}
  },
  {
   "cell_type": "code",
   "execution_count": 30,
   "source": [
    "selected = joined.loc[:, ['municipio', 'latitude', 'longitude']].drop_duplicates()"
   ],
   "outputs": [],
   "metadata": {}
  },
  {
   "cell_type": "code",
   "execution_count": 40,
   "source": [
    "len(selected), len(joined)"
   ],
   "outputs": [
    {
     "output_type": "execute_result",
     "data": {
      "text/plain": [
       "(23, 2957)"
      ]
     },
     "metadata": {},
     "execution_count": 40
    }
   ],
   "metadata": {}
  },
  {
   "cell_type": "code",
   "execution_count": 57,
   "source": [
    "with open('assets/test.tsp', 'w+') as f:\r\n",
    "    f.write('TEST_FILE\\n\\n')\r\n",
    "    f.write(f'DIMENSION : {len(selected)-1}\\n')\r\n",
    "    f.write('NODE_COORD_SECTION \\n')\r\n",
    "\r\n",
    "    for i, line in enumerate(selected.iterrows()):\r\n",
    "        if line[1][0] == 'NAO_INFORMADO':\r\n",
    "            continue\r\n",
    "\r\n",
    "        f.write(f'{line[1][0]} {line[1][1]} {line[1][2]}\\n') "
   ],
   "outputs": [],
   "metadata": {}
  },
  {
   "cell_type": "code",
   "execution_count": 60,
   "source": [
    "sol = pd.read_csv('sample_data/solucao_1.csv')"
   ],
   "outputs": [],
   "metadata": {}
  },
  {
   "cell_type": "code",
   "execution_count": 61,
   "source": [
    "sol.head()"
   ],
   "outputs": [
    {
     "output_type": "execute_result",
     "data": {
      "text/html": [
       "<div>\n",
       "<style scoped>\n",
       "    .dataframe tbody tr th:only-of-type {\n",
       "        vertical-align: middle;\n",
       "    }\n",
       "\n",
       "    .dataframe tbody tr th {\n",
       "        vertical-align: top;\n",
       "    }\n",
       "\n",
       "    .dataframe thead th {\n",
       "        text-align: right;\n",
       "    }\n",
       "</style>\n",
       "<table border=\"1\" class=\"dataframe\">\n",
       "  <thead>\n",
       "    <tr style=\"text-align: right;\">\n",
       "      <th></th>\n",
       "      <th>city</th>\n",
       "      <th>y</th>\n",
       "      <th>x</th>\n",
       "    </tr>\n",
       "  </thead>\n",
       "  <tbody>\n",
       "    <tr>\n",
       "      <th>0</th>\n",
       "      <td>CANDIDO_RODRIGUES</td>\n",
       "      <td>-21.3428</td>\n",
       "      <td>-48.6286</td>\n",
       "    </tr>\n",
       "    <tr>\n",
       "      <th>1</th>\n",
       "      <td>TAQUARITINGA</td>\n",
       "      <td>-21.4256</td>\n",
       "      <td>-48.5379</td>\n",
       "    </tr>\n",
       "    <tr>\n",
       "      <th>2</th>\n",
       "      <td>MONTE_ALTO</td>\n",
       "      <td>-21.2593</td>\n",
       "      <td>-48.5330</td>\n",
       "    </tr>\n",
       "    <tr>\n",
       "      <th>3</th>\n",
       "      <td>TAIACU</td>\n",
       "      <td>-21.1322</td>\n",
       "      <td>-48.5303</td>\n",
       "    </tr>\n",
       "    <tr>\n",
       "      <th>4</th>\n",
       "      <td>TAIUVA</td>\n",
       "      <td>-21.1327</td>\n",
       "      <td>-48.4282</td>\n",
       "    </tr>\n",
       "  </tbody>\n",
       "</table>\n",
       "</div>"
      ],
      "text/plain": [
       "                city        y        x\n",
       "0  CANDIDO_RODRIGUES -21.3428 -48.6286\n",
       "1       TAQUARITINGA -21.4256 -48.5379\n",
       "2         MONTE_ALTO -21.2593 -48.5330\n",
       "3             TAIACU -21.1322 -48.5303\n",
       "4             TAIUVA -21.1327 -48.4282"
      ]
     },
     "metadata": {},
     "execution_count": 61
    }
   ],
   "metadata": {}
  },
  {
   "cell_type": "code",
   "execution_count": null,
   "source": [],
   "outputs": [],
   "metadata": {}
  }
 ],
 "metadata": {
  "orig_nbformat": 4,
  "language_info": {
   "name": "python",
   "version": "3.9.0",
   "mimetype": "text/x-python",
   "codemirror_mode": {
    "name": "ipython",
    "version": 3
   },
   "pygments_lexer": "ipython3",
   "nbconvert_exporter": "python",
   "file_extension": ".py"
  },
  "kernelspec": {
   "name": "python3",
   "display_name": "Python 3.9.0 64-bit ('venv': venv)"
  },
  "interpreter": {
   "hash": "2c5ba79ddc6a7d08a0a318c105f022992f8bde934a63f13c39bfe2cc326433f5"
  }
 },
 "nbformat": 4,
 "nbformat_minor": 2
}