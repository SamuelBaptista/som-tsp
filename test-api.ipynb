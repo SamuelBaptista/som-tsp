{
 "cells": [
  {
   "cell_type": "code",
   "execution_count": 1,
   "source": [
    "import pandas as pd\r\n",
    "\r\n",
    "from unidecode import unidecode"
   ],
   "outputs": [],
   "metadata": {}
  },
  {
   "cell_type": "code",
   "execution_count": 2,
   "source": [
    "def clean_column_names(columns):\r\n",
    "    clean_columns = []\r\n",
    "    for col in columns:\r\n",
    "        clean_columns.append(\r\n",
    "            unidecode(col)\\\r\n",
    "               .strip()\\\r\n",
    "               .lower()\\\r\n",
    "               .replace('.', '')\\\r\n",
    "               .replace(' - ', '_')\\\r\n",
    "               .replace('/', '_')\\\r\n",
    "               .replace(' ', '_')\r\n",
    "        )\r\n",
    "    \r\n",
    "    return clean_columns"
   ],
   "outputs": [],
   "metadata": {}
  },
  {
   "cell_type": "code",
   "execution_count": 3,
   "source": [
    "cities = pd.read_csv('sample_data/cities_table_full.csv')\r\n",
    "gatec = pd.read_excel('sample_data/gatec.xlsx')"
   ],
   "outputs": [],
   "metadata": {}
  },
  {
   "cell_type": "code",
   "execution_count": 4,
   "source": [
    "gatec = gatec.convert_dtypes()"
   ],
   "outputs": [],
   "metadata": {}
  },
  {
   "cell_type": "code",
   "execution_count": 5,
   "source": [
    "gatec['Município'] = gatec['Município'].fillna('Nao_Informado')"
   ],
   "outputs": [],
   "metadata": {}
  },
  {
   "cell_type": "code",
   "execution_count": 6,
   "source": [
    "gatec['municipio'] = gatec['Município'].apply(lambda x: unidecode(x).upper().replace(' ', '_'))"
   ],
   "outputs": [],
   "metadata": {}
  },
  {
   "cell_type": "code",
   "execution_count": 7,
   "source": [
    "joined = gatec.merge(\r\n",
    "    cities, how=\"left\", on=\"municipio\"\r\n",
    ")"
   ],
   "outputs": [],
   "metadata": {}
  },
  {
   "cell_type": "code",
   "execution_count": 8,
   "source": [
    "joined.drop(['Município', 'Unnamed: 0'], axis=1, inplace=True)"
   ],
   "outputs": [],
   "metadata": {}
  },
  {
   "cell_type": "code",
   "execution_count": 9,
   "source": [
    "joined.columns = clean_column_names(joined.columns)"
   ],
   "outputs": [],
   "metadata": {}
  },
  {
   "cell_type": "code",
   "execution_count": 10,
   "source": [
    "selected = joined.loc[:, ['municipio', 'latitude', 'longitude']].drop_duplicates()"
   ],
   "outputs": [],
   "metadata": {}
  },
  {
   "cell_type": "code",
   "execution_count": 13,
   "source": [
    "selected.to_excel('inputs/input.xlsx', index=False)"
   ],
   "outputs": [],
   "metadata": {}
  }
 ],
 "metadata": {
  "orig_nbformat": 4,
  "language_info": {
   "name": "python",
   "version": "3.9.0",
   "mimetype": "text/x-python",
   "codemirror_mode": {
    "name": "ipython",
    "version": 3
   },
   "pygments_lexer": "ipython3",
   "nbconvert_exporter": "python",
   "file_extension": ".py"
  },
  "kernelspec": {
   "name": "python3",
   "display_name": "Python 3.9.0 64-bit ('venv': venv)"
  },
  "interpreter": {
   "hash": "2c5ba79ddc6a7d08a0a318c105f022992f8bde934a63f13c39bfe2cc326433f5"
  }
 },
 "nbformat": 4,
 "nbformat_minor": 2
}