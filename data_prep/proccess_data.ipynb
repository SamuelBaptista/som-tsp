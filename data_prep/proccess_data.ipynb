{
 "cells": [
  {
   "cell_type": "code",
   "execution_count": 28,
   "source": [
    "import pandas as pd\r\n",
    "import numpy as np\r\n",
    "\r\n",
    "from funcs import clean_column_names\r\n",
    "\r\n",
    "import random"
   ],
   "outputs": [],
   "metadata": {}
  },
  {
   "cell_type": "code",
   "execution_count": 2,
   "source": [
    "gatec = pd.read_excel('../sample_data/gatec.xlsx')"
   ],
   "outputs": [],
   "metadata": {}
  },
  {
   "cell_type": "code",
   "execution_count": 4,
   "source": [
    "gatec = gatec.convert_dtypes()\r\n",
    "gatec.columns = clean_column_names(gatec.columns)"
   ],
   "outputs": [],
   "metadata": {}
  },
  {
   "cell_type": "code",
   "execution_count": 7,
   "source": [
    "columns_to_select = [\r\n",
    "    'cod_fazenda',\r\n",
    "    'area_(ha)',\r\n",
    "    'producao_(t)',\r\n",
    "    'dist_(km)',\r\n",
    "    'atr'\r\n",
    "]"
   ],
   "outputs": [],
   "metadata": {}
  },
  {
   "cell_type": "code",
   "execution_count": 8,
   "source": [
    "select_gatec = gatec[columns_to_select]"
   ],
   "outputs": [],
   "metadata": {}
  },
  {
   "cell_type": "code",
   "execution_count": 18,
   "source": [
    "df_fazendas = select_gatec.groupby('cod_fazenda', as_index=False).agg({'area_(ha)': 'sum', 'producao_(t)': 'sum', 'dist_(km)': 'first', 'atr': 'first'})"
   ],
   "outputs": [],
   "metadata": {}
  },
  {
   "cell_type": "code",
   "execution_count": 20,
   "source": [
    "df_fazendas['produtividade_(ton/ha)'] = df_fazendas.apply(lambda x: x['producao_(t)'] / x['area_(ha)'], axis=1)"
   ],
   "outputs": [],
   "metadata": {}
  },
  {
   "cell_type": "code",
   "execution_count": 32,
   "source": [
    "df_fazendas['latitude'] = np.random.randint(14, 22, size=len(df_fazendas)) + np.random.rand(len(df_fazendas))\r\n",
    "df_fazendas['longitude'] = np.random.randint(42, 48, size=len(df_fazendas)) + np.random.rand(len(df_fazendas))"
   ],
   "outputs": [],
   "metadata": {}
  },
  {
   "cell_type": "code",
   "execution_count": 59,
   "source": [
    "df_fazendas['localizacao'] = df_fazendas.apply(lambda x: np.array([x['latitude'], x['longitude']]), axis=1)"
   ],
   "outputs": [],
   "metadata": {}
  },
  {
   "cell_type": "code",
   "execution_count": 56,
   "source": [
    "df_fazendas.head()"
   ],
   "outputs": [
    {
     "output_type": "execute_result",
     "data": {
      "text/html": [
       "<div>\n",
       "<style scoped>\n",
       "    .dataframe tbody tr th:only-of-type {\n",
       "        vertical-align: middle;\n",
       "    }\n",
       "\n",
       "    .dataframe tbody tr th {\n",
       "        vertical-align: top;\n",
       "    }\n",
       "\n",
       "    .dataframe thead th {\n",
       "        text-align: right;\n",
       "    }\n",
       "</style>\n",
       "<table border=\"1\" class=\"dataframe\">\n",
       "  <thead>\n",
       "    <tr style=\"text-align: right;\">\n",
       "      <th></th>\n",
       "      <th>cod_fazenda</th>\n",
       "      <th>area_(ha)</th>\n",
       "      <th>producao_(t)</th>\n",
       "      <th>dist_(km)</th>\n",
       "      <th>atr</th>\n",
       "      <th>produtividade_(ton/ha)</th>\n",
       "      <th>latitude</th>\n",
       "      <th>longitude</th>\n",
       "      <th>localizacao</th>\n",
       "    </tr>\n",
       "  </thead>\n",
       "  <tbody>\n",
       "    <tr>\n",
       "      <th>0</th>\n",
       "      <td>7</td>\n",
       "      <td>10.42</td>\n",
       "      <td>907.582</td>\n",
       "      <td>8.0</td>\n",
       "      <td>150.773056</td>\n",
       "      <td>87.100000</td>\n",
       "      <td>15.018938</td>\n",
       "      <td>45.673853</td>\n",
       "      <td>[15.018938424921503, 45.673852671284564]</td>\n",
       "    </tr>\n",
       "    <tr>\n",
       "      <th>1</th>\n",
       "      <td>8</td>\n",
       "      <td>10.05</td>\n",
       "      <td>777.87</td>\n",
       "      <td>6.0</td>\n",
       "      <td>151.808452</td>\n",
       "      <td>77.400000</td>\n",
       "      <td>14.453772</td>\n",
       "      <td>46.229189</td>\n",
       "      <td>[14.453771855668172, 46.22918930343569]</td>\n",
       "    </tr>\n",
       "    <tr>\n",
       "      <th>2</th>\n",
       "      <td>9</td>\n",
       "      <td>79.14</td>\n",
       "      <td>4165.8</td>\n",
       "      <td>18.0</td>\n",
       "      <td>150.07958</td>\n",
       "      <td>52.638362</td>\n",
       "      <td>15.616189</td>\n",
       "      <td>45.539827</td>\n",
       "      <td>[15.616188637891852, 45.53982704865857]</td>\n",
       "    </tr>\n",
       "    <tr>\n",
       "      <th>3</th>\n",
       "      <td>10</td>\n",
       "      <td>39.87</td>\n",
       "      <td>2699.199</td>\n",
       "      <td>6.0</td>\n",
       "      <td>146.631468</td>\n",
       "      <td>67.700000</td>\n",
       "      <td>21.444898</td>\n",
       "      <td>42.959761</td>\n",
       "      <td>[21.444897520966723, 42.959760836157756]</td>\n",
       "    </tr>\n",
       "    <tr>\n",
       "      <th>4</th>\n",
       "      <td>11</td>\n",
       "      <td>48.46</td>\n",
       "      <td>4677.955</td>\n",
       "      <td>3.0</td>\n",
       "      <td>121.2522</td>\n",
       "      <td>96.532295</td>\n",
       "      <td>18.540176</td>\n",
       "      <td>44.386422</td>\n",
       "      <td>[18.54017554368559, 44.386421733228325]</td>\n",
       "    </tr>\n",
       "  </tbody>\n",
       "</table>\n",
       "</div>"
      ],
      "text/plain": [
       "   cod_fazenda  area_(ha)  producao_(t)  dist_(km)         atr  \\\n",
       "0            7      10.42       907.582        8.0  150.773056   \n",
       "1            8      10.05        777.87        6.0  151.808452   \n",
       "2            9      79.14        4165.8       18.0   150.07958   \n",
       "3           10      39.87      2699.199        6.0  146.631468   \n",
       "4           11      48.46      4677.955        3.0    121.2522   \n",
       "\n",
       "   produtividade_(ton/ha)   latitude  longitude  \\\n",
       "0               87.100000  15.018938  45.673853   \n",
       "1               77.400000  14.453772  46.229189   \n",
       "2               52.638362  15.616189  45.539827   \n",
       "3               67.700000  21.444898  42.959761   \n",
       "4               96.532295  18.540176  44.386422   \n",
       "\n",
       "                                localizacao  \n",
       "0  [15.018938424921503, 45.673852671284564]  \n",
       "1   [14.453771855668172, 46.22918930343569]  \n",
       "2   [15.616188637891852, 45.53982704865857]  \n",
       "3  [21.444897520966723, 42.959760836157756]  \n",
       "4   [18.54017554368559, 44.386421733228325]  "
      ]
     },
     "metadata": {},
     "execution_count": 56
    }
   ],
   "metadata": {}
  },
  {
   "cell_type": "code",
   "execution_count": 61,
   "source": [
    "np.linalg.norm(df_fazendas.loc[0, 'localizacao'] - df_fazendas.loc[3, 'localizacao'])"
   ],
   "outputs": [
    {
     "output_type": "execute_result",
     "data": {
      "text/plain": [
       "6.975617878980207"
      ]
     },
     "metadata": {},
     "execution_count": 61
    }
   ],
   "metadata": {}
  }
 ],
 "metadata": {
  "orig_nbformat": 4,
  "language_info": {
   "name": "python",
   "version": "3.9.0",
   "mimetype": "text/x-python",
   "codemirror_mode": {
    "name": "ipython",
    "version": 3
   },
   "pygments_lexer": "ipython3",
   "nbconvert_exporter": "python",
   "file_extension": ".py"
  },
  "kernelspec": {
   "name": "python3",
   "display_name": "Python 3.9.0 64-bit ('venv': venv)"
  },
  "interpreter": {
   "hash": "2c5ba79ddc6a7d08a0a318c105f022992f8bde934a63f13c39bfe2cc326433f5"
  }
 },
 "nbformat": 4,
 "nbformat_minor": 2
}