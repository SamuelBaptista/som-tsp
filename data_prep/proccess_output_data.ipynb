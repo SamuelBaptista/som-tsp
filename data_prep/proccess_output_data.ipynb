{
 "cells": [
  {
   "cell_type": "code",
   "execution_count": 5,
   "source": [
    "import pandas as pd\r\n",
    "import os\r\n",
    "\r\n",
    "from datetime import datetime"
   ],
   "outputs": [],
   "metadata": {}
  },
  {
   "cell_type": "code",
   "execution_count": 6,
   "source": [
    "df_fazendas = pd.read_excel('../sample_data/fazendas.xlsx')\r\n",
    "df_colheitaderas = pd.read_excel('../sample_data/frentes_de_colheita.xlsx')\r\n",
    "map_dict = {0: 'BL.103', 1: 'BL.104', 2: 'BL.110', 3: 'BL.157', 4: 'BL.164', 5: 'BL.173', 6: 'BL.175', 7: 'BL.178', 8: 'BL.189', 9: 'BL.191'}"
   ],
   "outputs": [],
   "metadata": {}
  },
  {
   "cell_type": "code",
   "execution_count": 7,
   "source": [
    "def __calculate_final_date(df):\r\n",
    "    for i in range(len(df)):\r\n",
    "        if i == 0:\r\n",
    "            df.loc[i, 'data_final'] = df.loc[i, 'data_inicial'] + pd.to_timedelta(df.loc[i, 'dias'], unit='d')\r\n",
    "        else:\r\n",
    "            df.loc[i, 'data_inicial'] = df.loc[i-1, 'data_final']\r\n",
    "            df.loc[i, 'data_final'] = df.loc[i, 'data_inicial'] + pd.to_timedelta(df.loc[i, 'dias'], unit='d')\r\n",
    "\r\n",
    "    return df\r\n",
    "\r\n",
    "\r\n",
    "def __explode_data_between_dates(df):\r\n",
    "    df_dias = pd.DataFrame()\r\n",
    "\r\n",
    "    for i in range(len(df)):\r\n",
    "        n_dias = df.loc[i, 'dias']\r\n",
    "\r\n",
    "        for j in range(n_dias):\r\n",
    "            temp_df = df.loc[i, :].copy()\r\n",
    "            temp_df['dia'] = df.loc[i, 'data_inicial'] + pd.to_timedelta(j, unit='d')\r\n",
    "\r\n",
    "            df_dias = df_dias.append(temp_df)\r\n",
    "\r\n",
    "    return df_dias\r\n",
    "    \r\n",
    "\r\n",
    "def exec_process(df_f, df_c, map_dict, path='../outputs/'):\r\n",
    "    dir_list = os.listdir(path)\r\n",
    "    df_final = pd.DataFrame()\r\n",
    "\r\n",
    "    for i, file in enumerate(dir_list):\r\n",
    "        temp_df = pd.read_excel(path+file)\r\n",
    "        temp_df['frente_de_colheita'] = map_dict[i]\r\n",
    "\r\n",
    "        temp_df['data_inicial'] = None\r\n",
    "        temp_df.loc[0, 'data_inicial'] = datetime.today().date()\r\n",
    "\r\n",
    "        temp_df = temp_df.merge(df_f, how='left', on='cod_fazenda')\r\n",
    "        temp_df = temp_df.merge(df_c, how='left', on='frente_de_colheita')\r\n",
    "\r\n",
    "        temp_df['dias'] = (temp_df['producao_(t)'] / temp_df['capacidade_(ton/dia)'] + 1).astype(int)\r\n",
    "\r\n",
    "        temp_df2 = __calculate_final_date(temp_df)\r\n",
    "\r\n",
    "        temp_df3 = __explode_data_between_dates(temp_df2)\r\n",
    "\r\n",
    "        df_final = df_final.append(temp_df3)\r\n",
    "    \r\n",
    "    df_final = df_final.convert_dtypes()\r\n",
    "\r\n",
    "    return df_final"
   ],
   "outputs": [],
   "metadata": {}
  },
  {
   "cell_type": "code",
   "execution_count": 8,
   "source": [
    "teste_1 = exec_process(df_fazendas, df_colheitaderas, map_dict)"
   ],
   "outputs": [],
   "metadata": {}
  },
  {
   "cell_type": "code",
   "execution_count": 15,
   "source": [
    "relatorio_diario = teste_1.groupby('dia', as_index=False).agg({'atr': 'mean', 'dist_(km)': 'mean', 'producao_(t)': 'sum', 'area_(ha)': 'sum', 'frente_de_colheita': 'nunique'})\r\n",
    "relatorio_sequenciamento = teste_1.loc[:, ['cod_fazenda', 'frente_de_colheita', 'dia']]"
   ],
   "outputs": [],
   "metadata": {}
  },
  {
   "cell_type": "code",
   "execution_count": 18,
   "source": [
    "relatorio_diario.to_excel('relatorios/relatorio_diario.xlsx', index=False)\r\n",
    "relatorio_sequenciamento.to_excel('relatorios/relatorio_sequenciamento.xlsx', index=False)"
   ],
   "outputs": [],
   "metadata": {}
  }
 ],
 "metadata": {
  "orig_nbformat": 4,
  "language_info": {
   "name": "python",
   "version": "3.9.0",
   "mimetype": "text/x-python",
   "codemirror_mode": {
    "name": "ipython",
    "version": 3
   },
   "pygments_lexer": "ipython3",
   "nbconvert_exporter": "python",
   "file_extension": ".py"
  },
  "kernelspec": {
   "name": "python3",
   "display_name": "Python 3.9.0 64-bit ('venv': venv)"
  },
  "interpreter": {
   "hash": "2c5ba79ddc6a7d08a0a318c105f022992f8bde934a63f13c39bfe2cc326433f5"
  }
 },
 "nbformat": 4,
 "nbformat_minor": 2
}